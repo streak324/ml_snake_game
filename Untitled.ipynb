{
 "cells": [
  {
   "cell_type": "code",
   "execution_count": 5,
   "id": "5fbdb156",
   "metadata": {},
   "outputs": [],
   "source": [
    "import torch\n",
    "from torch import nn\n",
    "from torch.utils.data import DataLoader\n",
    "from torchvision import datasets\n",
    "from torchvision.transforms import ToTensor"
   ]
  },
  {
   "cell_type": "code",
   "execution_count": 6,
   "id": "80f6c064",
   "metadata": {},
   "outputs": [],
   "source": [
    "# Download training data from open datasets.\n",
    "training_data = datasets.FashionMNIST(\n",
    "    root=\"data\",\n",
    "    train=True,\n",
    "    download=True,\n",
    "    transform=ToTensor(),\n",
    ")\n",
    "\n",
    "# Download test data from open datasets.\n",
    "test_data = datasets.FashionMNIST(\n",
    "    root=\"data\",\n",
    "    train=False,\n",
    "    download=True,\n",
    "    transform=ToTensor(),\n",
    ")"
   ]
  },
  {
   "cell_type": "code",
   "execution_count": 7,
   "id": "ef567af9",
   "metadata": {},
   "outputs": [
    {
     "name": "stdout",
     "output_type": "stream",
     "text": [
      "Shape of X [N, C, H, W]: torch.Size([64, 1, 28, 28])\n",
      "Shape of y: torch.Size([64]) torch.int64\n"
     ]
    }
   ],
   "source": [
    "batch_size = 64\n",
    "\n",
    "# Create the data loaders\n",
    "train_dataloader = DataLoader(training_data, batch_size=batch_size)\n",
    "test_dataloader = DataLoader(test_data, batch_size=batch_size)\n",
    "\n",
    "for X, y in test_dataloader:\n",
    "    print(f\"Shape of X [N, C, H, W]: {X.shape}\")\n",
    "    print(f\"Shape of y: {y.shape} {y.dtype}\")\n",
    "    break"
   ]
  },
  {
   "cell_type": "code",
   "execution_count": 8,
   "id": "eba4c359",
   "metadata": {},
   "outputs": [
    {
     "name": "stdout",
     "output_type": "stream",
     "text": [
      "Using cuda device\n"
     ]
    }
   ],
   "source": [
    "device = (\n",
    "    \"cuda\"\n",
    "    if torch.cuda.is_available()\n",
    "    else \"mps\"\n",
    "    if torch.backends.mps.is_available()\n",
    "    else \"cpu\"\n",
    ")\n",
    "print(f\"Using {device} device\")\n",
    "\n",
    "# Define model\n",
    "class NeuralNetwork(nn.Module):\n",
    "    def __init__(self):\n",
    "        super().__init__()\n",
    "        self.flatten = nn.Flatten()\n",
    "        self.linear_relu_stack = nn.Sequential(\n",
    "            nn.Linear(28*28, 512),\n",
    "            nn.ReLU(),\n",
    "            nn.Linear(512, 512),\n",
    "            nn.ReLU(),\n",
    "            nn.Linear(512, 10)\n",
    "        )\n",
    "    def forward(self, x):\n",
    "        x = self.flatten(x)\n",
    "        logits = self.linear_relu_stack(x)\n",
    "        return logits"
   ]
  },
  {
   "cell_type": "code",
   "execution_count": 11,
   "id": "76e40682",
   "metadata": {},
   "outputs": [
    {
     "name": "stdout",
     "output_type": "stream",
     "text": [
      "NeuralNetwork(\n",
      "  (flatten): Flatten(start_dim=1, end_dim=-1)\n",
      "  (linear_relu_stack): Sequential(\n",
      "    (0): Linear(in_features=784, out_features=512, bias=True)\n",
      "    (1): ReLU()\n",
      "    (2): Linear(in_features=512, out_features=512, bias=True)\n",
      "    (3): ReLU()\n",
      "    (4): Linear(in_features=512, out_features=10, bias=True)\n",
      "  )\n",
      ")\n",
      "Epoch 1\n",
      "-----------------\n",
      "loss: 0.791820 [   64|60000]\n",
      "Test Error: \n",
      " Accuracy: 71.8%, Avg loss: 0.762238 \n",
      "\n",
      "Epoch 2\n",
      "-----------------\n",
      "loss: 0.755903 [   64|60000]\n",
      "Test Error: \n",
      " Accuracy: 72.9%, Avg loss: 0.740739 \n",
      "\n",
      "Epoch 3\n",
      "-----------------\n",
      "loss: 0.724295 [   64|60000]\n",
      "Test Error: \n",
      " Accuracy: 73.8%, Avg loss: 0.721560 \n",
      "\n",
      "Epoch 4\n",
      "-----------------\n",
      "loss: 0.695887 [   64|60000]\n",
      "Test Error: \n",
      " Accuracy: 74.7%, Avg loss: 0.704133 \n",
      "\n",
      "Epoch 5\n",
      "-----------------\n",
      "loss: 0.670204 [   64|60000]\n",
      "Test Error: \n",
      " Accuracy: 75.4%, Avg loss: 0.688142 \n",
      "\n",
      "Done!\n"
     ]
    }
   ],
   "source": [
    "def train(dataloader, model, loss_fn, optimizer):\n",
    "\tsize = len(dataloader.dataset)\n",
    "\tmodel.train()\n",
    "\tfor batch, (X, y) in enumerate(dataloader):\n",
    "\t\tX, y = X.to(device), y.to(device)\n",
    "\n",
    "\t\t# Compute prediction error\n",
    "\t\tpred = model(X)\n",
    "\t\tloss = loss_fn(pred, y)\n",
    "\n",
    "\t\t# Backpropagation\n",
    "\t\tloss.backward()\n",
    "\t\toptimizer.step()\n",
    "\t\toptimizer.zero_grad()\n",
    "\n",
    "\t\tif batch % 1000 == 0:\n",
    "\t\t\tloss, current = loss.item(), (batch + 1) * len(X)\n",
    "\t\t\tprint(F\"loss: {loss:>7f} [{current:>5d}|{size:>5d}]\")\n",
    "\n",
    "def test(dataloader, model, loss_fn):\n",
    "\tsize = len(dataloader.dataset)\n",
    "\tnum_batches = len(dataloader)\n",
    "\tmodel.eval()\n",
    "\ttest_loss, correct = 0, 0\n",
    "\twith torch.no_grad():\n",
    "\t\tfor X, y in dataloader:\n",
    "\t\t\tX, y = X.to(device), y.to(device)\n",
    "\t\t\tpred = model(X)\n",
    "\t\t\ttest_loss += loss_fn(pred, y).item()\n",
    "\t\t\tcorrect += (pred.argmax(1) == y).type(torch.float).sum().item()\n",
    "\ttest_loss /= num_batches\n",
    "\tcorrect /= size\n",
    "\tprint(f\"Test Error: \\n Accuracy: {(100*correct):>0.1f}%, Avg loss: {test_loss:>8f} \\n\")\n",
    "\n",
    "model = NeuralNetwork().to(device)\n",
    "model.load_state_dict(torch.load(\"model.pth\"))\n",
    "print(model)\n",
    "\n",
    "loss_fn = nn.CrossEntropyLoss()\n",
    "optimizer = torch.optim.SGD(model.parameters(), lr=1e-3)\n",
    "\n",
    "epochs = 5\n",
    "for t in range(epochs):\n",
    "\tprint(f\"Epoch {t+1}\\n-----------------\")\n",
    "\ttrain(train_dataloader, model, loss_fn, optimizer)\n",
    "\ttest(test_dataloader, model, loss_fn)\n",
    "\n",
    "print(\"Done!\")"
   ]
  },
  {
   "cell_type": "code",
   "execution_count": null,
   "id": "d2e005d9",
   "metadata": {},
   "outputs": [
    {
     "name": "stdout",
     "output_type": "stream",
     "text": [
      "Saved PyTorch Model State to model.pth\n"
     ]
    }
   ],
   "source": [
    "torch.save(model.state_dict(), \"model.pth\")\n",
    "print(\"Saved PyTorch Model State to model.pth\")"
   ]
  }
 ],
 "metadata": {
  "kernelspec": {
   "display_name": "Python 3 (ipykernel)",
   "language": "python",
   "name": "python3"
  },
  "language_info": {
   "codemirror_mode": {
    "name": "ipython",
    "version": 3
   },
   "file_extension": ".py",
   "mimetype": "text/x-python",
   "name": "python",
   "nbconvert_exporter": "python",
   "pygments_lexer": "ipython3",
   "version": "3.11.3"
  }
 },
 "nbformat": 4,
 "nbformat_minor": 5
}
